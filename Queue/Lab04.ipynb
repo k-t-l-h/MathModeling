{
 "cells": [
  {
   "cell_type": "code",
   "execution_count": 14,
   "metadata": {},
   "outputs": [],
   "source": [
    "import numpy as np\n",
    "from scipy.stats import uniform, expon, norm\n",
    "from numpy import random\n",
    "\n",
    "from ipywidgets import *\n",
    "import ipywidgets as widgets\n",
    "from ipysheet import from_array, to_array, sheet, cell"
   ]
  },
  {
   "cell_type": "code",
   "execution_count": 15,
   "metadata": {},
   "outputs": [],
   "source": [
    "random.seed()"
   ]
  },
  {
   "cell_type": "code",
   "execution_count": 16,
   "metadata": {},
   "outputs": [
    {
     "data": {
      "application/vnd.jupyter.widget-view+json": {
       "model_id": "fec872543636400684fdb230974ceedf",
       "version_major": 2,
       "version_minor": 0
      },
      "text/plain": [
       "IntSlider(value=50, continuous_update=False, description='Время:', max=10000, step=50)"
      ]
     },
     "metadata": {},
     "output_type": "display_data"
    }
   ],
   "source": [
    "T = widgets.IntSlider(\n",
    "    min=0,\n",
    "    max=10000,\n",
    "    step=50,\n",
    "    value = 50,\n",
    "    description='Время:',\n",
    "    disabled=False,\n",
    "    continuous_update=False,\n",
    "    orientation='horizontal',\n",
    "    readout=True,\n",
    "    readout_format='d'\n",
    ")\n",
    "\n",
    "display(T)\n"
   ]
  },
  {
   "cell_type": "code",
   "execution_count": 17,
   "metadata": {},
   "outputs": [
    {
     "data": {
      "application/vnd.jupyter.widget-view+json": {
       "model_id": "b12d4f547a8b44c1b30e569c1f96408e",
       "version_major": 2,
       "version_minor": 0
      },
      "text/plain": [
       "IntSlider(value=3, continuous_update=False, description='Размер:', max=2000)"
      ]
     },
     "metadata": {},
     "output_type": "display_data"
    }
   ],
   "source": [
    "N = widgets.IntSlider(\n",
    "    min=0,\n",
    "    max=2000,\n",
    "    step=1,\n",
    "    value = 3,\n",
    "    description='Размер:',\n",
    "    disabled=False,\n",
    "    continuous_update=False,\n",
    "    orientation='horizontal',\n",
    "    readout=True,\n",
    "    readout_format='d'\n",
    ")\n",
    "\n",
    "display(N)\n"
   ]
  },
  {
   "cell_type": "code",
   "execution_count": 18,
   "metadata": {},
   "outputs": [
    {
     "data": {
      "application/vnd.jupyter.widget-view+json": {
       "model_id": "8029eb7835044acfacca7076ad706121",
       "version_major": 2,
       "version_minor": 0
      },
      "text/plain": [
       "FloatSlider(value=0.3, max=1.0, step=0.05)"
      ]
     },
     "metadata": {},
     "output_type": "display_data"
    }
   ],
   "source": [
    "P = widgets.FloatSlider(min=0.0, max=1.0, step=0.05, value = 0.3)\n",
    "\n",
    "display(P)"
   ]
  },
  {
   "cell_type": "code",
   "execution_count": 19,
   "metadata": {},
   "outputs": [
    {
     "data": {
      "application/vnd.jupyter.widget-view+json": {
       "model_id": "7e02820f8cf445d9b9813d61e05f768e",
       "version_major": 2,
       "version_minor": 0
      },
      "text/plain": [
       "FloatSlider(value=0.01, max=1.0, step=0.01)"
      ]
     },
     "metadata": {},
     "output_type": "display_data"
    }
   ],
   "source": [
    "delta = widgets.FloatSlider(min=0.0, max=1.0, step=0.01, value = 0.01)\n",
    "display(delta)"
   ]
  },
  {
   "cell_type": "code",
   "execution_count": 20,
   "metadata": {},
   "outputs": [],
   "source": [
    "dt = delta.value"
   ]
  },
  {
   "cell_type": "code",
   "execution_count": 21,
   "metadata": {},
   "outputs": [
    {
     "data": {
      "application/vnd.jupyter.widget-view+json": {
       "model_id": "8ae14f9275e14bcb886f850a860604c6",
       "version_major": 2,
       "version_minor": 0
      },
      "text/plain": [
       "FloatSlider(value=1.0, max=10.0, step=0.5)"
      ]
     },
     "metadata": {},
     "output_type": "display_data"
    },
    {
     "data": {
      "application/vnd.jupyter.widget-view+json": {
       "model_id": "379ca897620d4bb5bbc04fe3d8c56ec9",
       "version_major": 2,
       "version_minor": 0
      },
      "text/plain": [
       "FloatSlider(value=3.0, max=10.0, step=0.5)"
      ]
     },
     "metadata": {},
     "output_type": "display_data"
    }
   ],
   "source": [
    "#распределение генератора заявок\n",
    "\n",
    "A = widgets.FloatSlider(min=0.0, max=10.0, step=0.5, value = 1.0)\n",
    "B = widgets.FloatSlider(min=0.0, max=10.0, step=0.5, value = 3.0)\n",
    "\n",
    "display(A, B)\n",
    "a = A.value \n",
    "b = B.value \n",
    "\n",
    "if (b < a):\n",
    "    b, a = a, b\n"
   ]
  },
  {
   "cell_type": "code",
   "execution_count": 22,
   "metadata": {},
   "outputs": [
    {
     "data": {
      "application/vnd.jupyter.widget-view+json": {
       "model_id": "1f213e9e328344e4b232108bf0cb92e6",
       "version_major": 2,
       "version_minor": 0
      },
      "text/plain": [
       "FloatSlider(value=4.0, max=10.0, step=0.5)"
      ]
     },
     "metadata": {},
     "output_type": "display_data"
    }
   ],
   "source": [
    "#распределение ОА\n",
    "L = widgets.FloatSlider(min=0.0, max=10.0, step=0.5, value = 4)\n",
    "display(L)"
   ]
  },
  {
   "cell_type": "code",
   "execution_count": 23,
   "metadata": {},
   "outputs": [],
   "source": [
    "l = L.value"
   ]
  },
  {
   "cell_type": "code",
   "execution_count": 24,
   "metadata": {},
   "outputs": [],
   "source": [
    "#следующая заявка\n",
    "def next_request():\n",
    "    return random.uniform(a, b)\n",
    "\n",
    "#следующее время обработки \n",
    "def next_time():\n",
    "    return random.exponential(l)"
   ]
  },
  {
   "cell_type": "code",
   "execution_count": 25,
   "metadata": {},
   "outputs": [],
   "source": [
    "#метод дельта t\n",
    "_rnum = 0 #количество обработанных заявок\n",
    "_rnotnum = 0 #количество необработанных заявок\n",
    "_rretnum = 0 #количество возвращенных заявок\n",
    "\n",
    "_delta = next_request() #когда поступит заявка?\n",
    "_time = _delta + next_time() #когда заявка обработается?\n",
    "\n",
    "_runtime = 0 #время моделирования\n",
    "\n",
    "optimal = 0\n",
    "max_optimal = 0\n",
    "\n",
    "que = 0\n",
    "flag = False\n",
    "while _runtime <= T.value: #процесс моделирования\n",
    "    #print(\"que\", que)\n",
    "    if _delta <= _runtime: #генерируется заявка\n",
    "        #можем ли мы принять эту заявку?\n",
    "        if flag: #не можем\n",
    "            optimal += 1 #считаем оптимальную очередь\n",
    "            max_optimal = max(optimal, max_optimal)\n",
    "            if (que + 1 <= N.value):\n",
    "                que += 1 #положили заявку\n",
    "            else:\n",
    "                _rnotnum += 1 #не обработали заявку\n",
    "        else: #можем\n",
    "            flag = True\n",
    "            _time = _delta + next_time()\n",
    "        _delta += next_request() #протягиваем во времени\n",
    "        \n",
    "    if _time <= _runtime: #обрабатываем заявку\n",
    "        flag = False\n",
    "        _rnum += 1\n",
    "       #отправится ли заявка назад?\n",
    "        if (random.random() <= P.value):\n",
    "            _rretnum += 1 #да\n",
    "            flag = True\n",
    "            _time = _time + next_time()\n",
    "        else:\n",
    "            if (optimal > 0):\n",
    "                optimal -= 1 \n",
    "            if (que > 0):\n",
    "                que -= 1 \n",
    "                flag = True\n",
    "                _time = _time + next_time()\n",
    "            elif (que == 0):\n",
    "                _time = _delta + next_time()\n",
    "    \n",
    "    _runtime += dt #обновили время\n",
    "         \n",
    "            \n",
    "            \n",
    "        "
   ]
  },
  {
   "cell_type": "code",
   "execution_count": 26,
   "metadata": {},
   "outputs": [
    {
     "data": {
      "application/vnd.jupyter.widget-view+json": {
       "model_id": "c15b107e1a1c48c2ad8729afd46403af",
       "version_major": 2,
       "version_minor": 0
      },
      "text/plain": [
       "Sheet(cells=(Cell(column_end=0, column_start=0, row_end=0, row_start=0, type='numeric', value=23), Cell(column…"
      ]
     },
     "metadata": {},
     "output_type": "display_data"
    }
   ],
   "source": [
    "s1 = sheet(6, 1, column_headers = list(['Всего заявок', 'Обработано', 'Не обработано', 'Возвращено', 'Осталось','Оптмальный размер очереди']))\n",
    "cell(0, 0, _rnum+ _rnotnum)            # The Cell type will be 'numeric'\n",
    "cell(0, 1,_rnum)           # The Cell type will be 'checkbox'\n",
    "cell(0, 2,_rnotnum)\n",
    "cell(0, 3,_rretnum)\n",
    "cell(0, 4,max_optimal)\n",
    "cell(0, 5, max_optimal)\n",
    "s1"
   ]
  },
  {
   "cell_type": "code",
   "execution_count": 15,
   "metadata": {},
   "outputs": [],
   "source": [
    "#метод событий\n",
    "_rnum = 0 #количество обработанных заявок\n",
    "_rnotnum = 0 #количество необработанных заявок\n",
    "_rretnum = 0 #количество возвращенных заявок\n",
    "\n",
    "_delta = next_request() #когда поступит заявка?\n",
    "_time = _delta + next_time() #когда заявка обработается?\n",
    "\n",
    "_runtime = 0 #время моделирования\n",
    "\n",
    "optimal = 0\n",
    "max_optimal = 0\n",
    "\n",
    "que = 0\n",
    "flag = False\n",
    "while _runtime <= T.value: #процесс моделирования\n",
    "    #print(\"que\", que)\n",
    "    if _delta < _time: #что раньше? генерация или обработка\n",
    "        #генерация\n",
    "        if flag: #ОА занят\n",
    "            optimal += 1 #считаем оптимальную очередь\n",
    "            max_optimal = max(optimal, max_optimal)\n",
    "            if (que + 1 <= N.value):\n",
    "                que += 1 #положили заявку в очередь\n",
    "            else:\n",
    "                _rnotnum += 1 #не обработали заявку\n",
    "        else: #ОА свободен\n",
    "            flag = True #заняли ОА\n",
    "            _time = _delta + next_time() \n",
    "        _time -= _delta\n",
    "        _runtime += _delta\n",
    "        _delta = next_request() \n",
    "        \n",
    "    if _time <= _delta: #обрабатываем заявку\n",
    "        flag = False\n",
    "        _rnum += 1\n",
    "        \n",
    "        _delta -= _time\n",
    "        _runtime += _time\n",
    "       #отправится ли заявка назад?\n",
    "        if (random.random() <= P.value):\n",
    "            _rretnum += 1 #да\n",
    "            flag = True\n",
    "            _time = next_time()\n",
    "        else:\n",
    "            if (optimal > 0):\n",
    "                optimal -= 1 \n",
    "            if (que > 0):\n",
    "                que -= 1 \n",
    "                flag = True\n",
    "                _time = next_time()\n",
    "            elif (que == 0):\n",
    "                _time = _delta + next_time()        "
   ]
  },
  {
   "cell_type": "code",
   "execution_count": 16,
   "metadata": {},
   "outputs": [
    {
     "data": {
      "application/vnd.jupyter.widget-view+json": {
       "model_id": "6b66184b47d8482bac6977e5c13429a6",
       "version_major": 2,
       "version_minor": 0
      },
      "text/plain": [
       "Sheet(cells=(Cell(column_end=0, column_start=0, row_end=0, row_start=0, type='numeric', value=25), Cell(column…"
      ]
     },
     "metadata": {},
     "output_type": "display_data"
    }
   ],
   "source": [
    "s1 = sheet(6, 1, column_headers = list(['Всего заявок', 'Обработано', 'Не обработано', 'Возвращено', 'Осталось','Оптмальный размер очереди']))\n",
    "cell(0, 0, _rnum+ _rnotnum)            # The Cell type will be 'numeric'\n",
    "cell(0, 1,_rnum)           # The Cell type will be 'checkbox'\n",
    "cell(0, 2,_rnotnum)\n",
    "cell(0, 3,_rretnum)\n",
    "cell(0, 4,max_optimal)\n",
    "cell(0, 5, max_optimal)\n",
    "s1"
   ]
  },
  {
   "cell_type": "code",
   "execution_count": null,
   "metadata": {},
   "outputs": [],
   "source": []
  }
 ],
 "metadata": {
  "kernelspec": {
   "display_name": "Python 3",
   "language": "python",
   "name": "python3"
  },
  "language_info": {
   "codemirror_mode": {
    "name": "ipython",
    "version": 3
   },
   "file_extension": ".py",
   "mimetype": "text/x-python",
   "name": "python",
   "nbconvert_exporter": "python",
   "pygments_lexer": "ipython3",
   "version": "3.6.5"
  }
 },
 "nbformat": 4,
 "nbformat_minor": 2
}
