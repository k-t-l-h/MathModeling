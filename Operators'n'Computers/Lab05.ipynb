{
 "cells": [
  {
   "cell_type": "code",
   "execution_count": 1,
   "metadata": {},
   "outputs": [],
   "source": [
    "import math \n",
    "import numpy as np\n",
    "from scipy.stats import uniform, expon, norm\n",
    "from numpy import random\n",
    "\n",
    "from ipywidgets import *\n",
    "import ipywidgets as widgets\n",
    "from ipysheet import from_array, to_array, sheet, cell"
   ]
  },
  {
   "cell_type": "code",
   "execution_count": 2,
   "metadata": {},
   "outputs": [
    {
     "data": {
      "application/vnd.jupyter.widget-view+json": {
       "model_id": "3bf18724c441460baea9e60cb97eae26",
       "version_major": 2,
       "version_minor": 0
      },
      "text/plain": [
       "IntSlider(value=15)"
      ]
     },
     "metadata": {},
     "output_type": "display_data"
    },
    {
     "data": {
      "application/vnd.jupyter.widget-view+json": {
       "model_id": "e7ecad92dad0458ab78712940eef7e43",
       "version_major": 2,
       "version_minor": 0
      },
      "text/plain": [
       "IntSlider(value=25)"
      ]
     },
     "metadata": {},
     "output_type": "display_data"
    }
   ],
   "source": [
    "#Оператор один \n",
    "A1 = widgets.IntSlider(min=0, max=100, value = 15)\n",
    "B1 = widgets.IntSlider(min=0, max=100, value = 25)\n",
    "display(A1)\n",
    "display(B1)"
   ]
  },
  {
   "cell_type": "code",
   "execution_count": 3,
   "metadata": {},
   "outputs": [
    {
     "data": {
      "application/vnd.jupyter.widget-view+json": {
       "model_id": "3da5bb5cd3f84e36af80fb7976092313",
       "version_major": 2,
       "version_minor": 0
      },
      "text/plain": [
       "IntSlider(value=30)"
      ]
     },
     "metadata": {},
     "output_type": "display_data"
    },
    {
     "data": {
      "application/vnd.jupyter.widget-view+json": {
       "model_id": "1d9d5789b662406b9fad74fee2873643",
       "version_major": 2,
       "version_minor": 0
      },
      "text/plain": [
       "IntSlider(value=50)"
      ]
     },
     "metadata": {},
     "output_type": "display_data"
    }
   ],
   "source": [
    "#Оператор два\n",
    "A2 = widgets.IntSlider(min=0, max=100, value = 30)\n",
    "B2 = widgets.IntSlider(min=0, max=100, value = 50)\n",
    "display(A2)\n",
    "display(B2)"
   ]
  },
  {
   "cell_type": "code",
   "execution_count": 4,
   "metadata": {},
   "outputs": [
    {
     "data": {
      "application/vnd.jupyter.widget-view+json": {
       "model_id": "e9c1142cb3be4b6c9faf182b2106cae5",
       "version_major": 2,
       "version_minor": 0
      },
      "text/plain": [
       "IntSlider(value=20)"
      ]
     },
     "metadata": {},
     "output_type": "display_data"
    },
    {
     "data": {
      "application/vnd.jupyter.widget-view+json": {
       "model_id": "146b18e6644343a2a1b6f905f1eccdac",
       "version_major": 2,
       "version_minor": 0
      },
      "text/plain": [
       "IntSlider(value=60)"
      ]
     },
     "metadata": {},
     "output_type": "display_data"
    }
   ],
   "source": [
    "#Оператор три\n",
    "A3 = widgets.IntSlider(min=0, max=100, value = 20)\n",
    "B3 = widgets.IntSlider(min=0, max=100, value = 60)\n",
    "display(A3)\n",
    "display(B3)"
   ]
  },
  {
   "cell_type": "code",
   "execution_count": 5,
   "metadata": {},
   "outputs": [
    {
     "data": {
      "application/vnd.jupyter.widget-view+json": {
       "model_id": "b3c7209067174dfb95b8c3ba6d39105c",
       "version_major": 2,
       "version_minor": 0
      },
      "text/plain": [
       "IntSlider(value=8)"
      ]
     },
     "metadata": {},
     "output_type": "display_data"
    },
    {
     "data": {
      "application/vnd.jupyter.widget-view+json": {
       "model_id": "8713967f7c844d819fc0d799f5be75da",
       "version_major": 2,
       "version_minor": 0
      },
      "text/plain": [
       "IntSlider(value=12)"
      ]
     },
     "metadata": {},
     "output_type": "display_data"
    }
   ],
   "source": [
    "#Клиенты\n",
    "Cin = widgets.IntSlider(min=0, max=100, value = 8)\n",
    "Cout = widgets.IntSlider(min=0, max=100, value = 12)\n",
    "display(Cin)\n",
    "display(Cout)"
   ]
  },
  {
   "cell_type": "code",
   "execution_count": 6,
   "metadata": {},
   "outputs": [
    {
     "data": {
      "application/vnd.jupyter.widget-view+json": {
       "model_id": "ecf5b009e59d407d8890521c15746b98",
       "version_major": 2,
       "version_minor": 0
      },
      "text/plain": [
       "FloatSlider(value=15.0, max=20.0)"
      ]
     },
     "metadata": {},
     "output_type": "display_data"
    },
    {
     "data": {
      "application/vnd.jupyter.widget-view+json": {
       "model_id": "b0ffd3a5921f4bd4b6f481243e5cd938",
       "version_major": 2,
       "version_minor": 0
      },
      "text/plain": [
       "FloatSlider(value=15.1, max=20.0)"
      ]
     },
     "metadata": {},
     "output_type": "display_data"
    }
   ],
   "source": [
    "#Компьютер раз\n",
    "C1i = widgets.FloatSlider(min=0.0, max=20.0, value = 15.0)\n",
    "C1o = widgets.FloatSlider(min=0.0, max=20.0, value = 15.1)\n",
    "display(C1i)\n",
    "display(C1o)"
   ]
  },
  {
   "cell_type": "code",
   "execution_count": 7,
   "metadata": {},
   "outputs": [
    {
     "data": {
      "application/vnd.jupyter.widget-view+json": {
       "model_id": "e73b92fd392849af95d6cff1f78b50c8",
       "version_major": 2,
       "version_minor": 0
      },
      "text/plain": [
       "FloatSlider(value=20.0, max=20.0)"
      ]
     },
     "metadata": {},
     "output_type": "display_data"
    },
    {
     "data": {
      "application/vnd.jupyter.widget-view+json": {
       "model_id": "25b3d55e33124e71a40c6d5e2b212e60",
       "version_major": 2,
       "version_minor": 0
      },
      "text/plain": [
       "FloatSlider(value=20.0, max=20.0)"
      ]
     },
     "metadata": {},
     "output_type": "display_data"
    }
   ],
   "source": [
    "#Компьютер два\n",
    "C2i = widgets.FloatSlider(min=0.0, max=20.0, value = 30.0)\n",
    "C2o = widgets.FloatSlider(min=0.0, max=20.0, value = 30.1)\n",
    "display(C2i)\n",
    "display(C2o)"
   ]
  },
  {
   "cell_type": "code",
   "execution_count": 8,
   "metadata": {},
   "outputs": [
    {
     "data": {
      "application/vnd.jupyter.widget-view+json": {
       "model_id": "b50f466b493c4bc9890635118cbfbb92",
       "version_major": 2,
       "version_minor": 0
      },
      "text/plain": [
       "FloatSlider(value=0.01, max=1.0, step=0.01)"
      ]
     },
     "metadata": {},
     "output_type": "display_data"
    }
   ],
   "source": [
    "#Шаг по времени\n",
    "delta = widgets.FloatSlider(min=0.0, max=1.0, step=0.01, value = 0.01)\n",
    "display(delta)"
   ]
  },
  {
   "cell_type": "code",
   "execution_count": 9,
   "metadata": {},
   "outputs": [
    {
     "data": {
      "application/vnd.jupyter.widget-view+json": {
       "model_id": "e3a1ecada12247f2b5770b0f1d2d1be6",
       "version_major": 2,
       "version_minor": 0
      },
      "text/plain": [
       "IntSlider(value=300, max=1000)"
      ]
     },
     "metadata": {},
     "output_type": "display_data"
    }
   ],
   "source": [
    "N = widgets.IntSlider(min=0, max=1000, value = 300)\n",
    "display(N)"
   ]
  },
  {
   "cell_type": "code",
   "execution_count": 10,
   "metadata": {},
   "outputs": [],
   "source": [
    "#генерация \n",
    "def generate_next(a, b):\n",
    "    return random.uniform(a, b)"
   ]
  },
  {
   "cell_type": "code",
   "execution_count": 11,
   "metadata": {},
   "outputs": [],
   "source": [
    "#оставшееся время\n",
    "t_req = generate_next(Cin.value, Cout.value) #когда следующая заявка\n",
    "t_o1 = math.inf\n",
    "t_o2 = math.inf\n",
    "t_o3 = math.inf\n",
    "\n",
    "t_c1 = math.inf\n",
    "t_c2 = math.inf"
   ]
  },
  {
   "cell_type": "code",
   "execution_count": 12,
   "metadata": {},
   "outputs": [],
   "source": [
    "que_r = 0\n",
    "que_c1 = 0\n",
    "que_c2 = 0"
   ]
  },
  {
   "cell_type": "code",
   "execution_count": 13,
   "metadata": {},
   "outputs": [],
   "source": [
    "mt = 0 #время моделирования\n",
    "reqa = 0 #первый комп\n",
    "reqb = 0 #второй комп\n",
    "unreq = 0 #заявки необработанные "
   ]
  },
  {
   "cell_type": "code",
   "execution_count": 14,
   "metadata": {},
   "outputs": [],
   "source": [
    "#список событий\n",
    "class myEvent:\n",
    "    def __init__(self, name, time):\n",
    "        self.name = name\n",
    "        self.time = time\n",
    "        \n",
    "ev_req = myEvent(\"req\", t_req)\n",
    "ev_o1 = myEvent(\"o1\", t_o1)\n",
    "ev_o2 = myEvent(\"o2\", t_o2)\n",
    "ev_o3 = myEvent(\"o3\", t_o3)\n",
    "\n",
    "ev_c1 = myEvent(\"c1\", t_c1)\n",
    "ev_c2 = myEvent(\"c2\", t_c2)\n",
    "\n",
    "times = [ev_req, ev_o1, ev_o2, ev_o3, ev_c1, ev_c2] \n",
    "\n",
    "b_o1 = False\n",
    "b_o2 = False\n",
    "b_o3 = False\n",
    "\n",
    "b_c1 = False\n",
    "b_c2 = False"
   ]
  },
  {
   "cell_type": "code",
   "execution_count": 15,
   "metadata": {},
   "outputs": [],
   "source": [
    "while reqa + reqb < N.value:\n",
    "    mt += times[0].time\n",
    "    for i in range(len(times) - 1, -1, -1):\n",
    "        times[i].time -= times[0].time\n",
    "        \n",
    "    if times[0].name == 'o1':\n",
    "        b_o1 = False\n",
    "        ev_o1.time = math.inf\n",
    "        if not b_c1:\n",
    "            b_c1 = True\n",
    "            ev_c1.time = generate_next(C1i.value, C1o.value)\n",
    "        else:\n",
    "            que_c1 = que_c1 + 1         \n",
    "    elif times[0].name == 'o2':\n",
    "        b_o2 = False\n",
    "        ev_o2.time = math.inf\n",
    "        if not b_c1:\n",
    "            b_c1 = True\n",
    "            ev_c1.time = generate_next(C1i.value, C1o.value)\n",
    "        else:\n",
    "            que_c1 = que_c1 + 1           \n",
    "    elif times[0].name == 'o3':\n",
    "        b_o3 = False\n",
    "        ev_o3.time = math.inf\n",
    "        if not b_c2:\n",
    "            b_c2 = True\n",
    "            ev_c2.time = generate_next(C2i.value, C2o.value)\n",
    "        else:\n",
    "            que_c2 += 1    \n",
    "    elif times[0].name == 'c1':\n",
    "        reqa += 1        \n",
    "        b_c1 = False\n",
    "        ev_c1.time = math.inf\n",
    "        \n",
    "        if que_c1 > 0:\n",
    "            que_c1 -= 1\n",
    "            b_c1 = True\n",
    "            ev_c1.time = generate_next(C1i.value, C1o.value)\n",
    "            \n",
    "    elif times[0].name == 'c2':\n",
    "        reqb += 1        \n",
    "        b_c2 = False\n",
    "        ev_c2.time = math.inf\n",
    "        \n",
    "        if que_c2 > 0:\n",
    "            que_c2 -= 1\n",
    "            b_c2 = True\n",
    "            ev_c2.time = generate_next(C2i.value, C2o.value)\n",
    "    else:\n",
    "        if not b_o1:\n",
    "            b_o1 = True\n",
    "            ev_o1.time = generate_next(A1.value, B1.value)\n",
    "        elif not b_o2:\n",
    "            b_o2 = True\n",
    "            ev_o2.time = generate_next(A2.value, B2.value)\n",
    "        elif not b_o3:\n",
    "            b_o3 = True\n",
    "            ev_o3.time = generate_next(A3.value, B3.value)\n",
    "        else:\n",
    "            unreq += 1\n",
    "        ev_req.time = generate_next(Cin.value, Cout.value)\n",
    "\n",
    "    times = sorted(times, key = (lambda x: x.time) )\n",
    "    \n",
    "    "
   ]
  },
  {
   "cell_type": "code",
   "execution_count": 16,
   "metadata": {},
   "outputs": [
    {
     "data": {
      "application/vnd.jupyter.widget-view+json": {
       "model_id": "327e481a686643bb80128fcf83ffe72f",
       "version_major": 2,
       "version_minor": 0
      },
      "text/plain": [
       "Sheet(cells=(Cell(column_end=0, column_start=0, row_end=0, row_start=0, type='numeric', value=385), Cell(colum…"
      ]
     },
     "metadata": {},
     "output_type": "display_data"
    }
   ],
   "source": [
    "s1 = sheet(5, 1, column_headers = list(['Всего заявок', 'Обработано', 'Не обработано', 'Время моделирования', 'Вероятность отказа']))\n",
    "cell(0, 0, reqa + reqb + unreq)\n",
    "cell(0, 1, reqa + reqb) \n",
    "cell(0, 2, unreq)\n",
    "cell(0, 3, mt)\n",
    "cell(0, 4, unreq / (reqa + reqb + unreq))\n",
    "s1"
   ]
  }
 ],
 "metadata": {
  "kernelspec": {
   "display_name": "Python 3",
   "language": "python",
   "name": "python3"
  },
  "language_info": {
   "codemirror_mode": {
    "name": "ipython",
    "version": 3
   },
   "file_extension": ".py",
   "mimetype": "text/x-python",
   "name": "python",
   "nbconvert_exporter": "python",
   "pygments_lexer": "ipython3",
   "version": "3.6.5"
  }
 },
 "nbformat": 4,
 "nbformat_minor": 2
}
