{
 "cells": [
  {
   "cell_type": "code",
   "execution_count": 1,
   "metadata": {},
   "outputs": [],
   "source": [
    "import math \n",
    "import numpy as np\n",
    "from numpy import random\n",
    "\n",
    "from ipywidgets import *\n",
    "import ipywidgets as widgets\n",
    "from ipysheet import from_array, to_array, sheet, cell"
   ]
  },
  {
   "cell_type": "code",
   "execution_count": 2,
   "metadata": {},
   "outputs": [],
   "source": [
    "random.seed()"
   ]
  },
  {
   "cell_type": "code",
   "execution_count": 3,
   "metadata": {},
   "outputs": [
    {
     "data": {
      "application/vnd.jupyter.widget-view+json": {
       "model_id": "73acb65a431343818e99fb98a18547d2",
       "version_major": 2,
       "version_minor": 0
      },
      "text/plain": [
       "FloatSlider(value=1.0, max=10.0, step=0.5)"
      ]
     },
     "metadata": {},
     "output_type": "display_data"
    },
    {
     "data": {
      "application/vnd.jupyter.widget-view+json": {
       "model_id": "c9007b719d60440aa151896248c4bf91",
       "version_major": 2,
       "version_minor": 0
      },
      "text/plain": [
       "FloatSlider(value=3.0, max=10.0, step=0.5)"
      ]
     },
     "metadata": {},
     "output_type": "display_data"
    }
   ],
   "source": [
    "#поступление запросов \n",
    "A = widgets.FloatSlider(min=0.0, max=10.0, step=0.5, value = 1.0)\n",
    "B = widgets.FloatSlider(min=0.0, max=10.0, step=0.5, value = 3.0)\n",
    "\n",
    "display(A, B)\n",
    "a = A.value \n",
    "b = B.value \n",
    "\n",
    "if (b < a):\n",
    "    b, a = a, b\n"
   ]
  },
  {
   "cell_type": "code",
   "execution_count": 4,
   "metadata": {},
   "outputs": [
    {
     "data": {
      "application/vnd.jupyter.widget-view+json": {
       "model_id": "b8a16668b22043b2b1651c501b891543",
       "version_major": 2,
       "version_minor": 0
      },
      "text/plain": [
       "FloatSlider(value=500.0, max=10000.0)"
      ]
     },
     "metadata": {},
     "output_type": "display_data"
    }
   ],
   "source": [
    "#сколько моделируем систему \n",
    "T = widgets.FloatSlider(min=0.0, max=10000.0, value = 500.0)\n",
    "display(T)"
   ]
  },
  {
   "cell_type": "code",
   "execution_count": 5,
   "metadata": {},
   "outputs": [
    {
     "data": {
      "application/vnd.jupyter.widget-view+json": {
       "model_id": "d0e106524b854002a1ee79d9e972052f",
       "version_major": 2,
       "version_minor": 0
      },
      "text/plain": [
       "FloatSlider(value=1.0, max=10.0, step=0.5)"
      ]
     },
     "metadata": {},
     "output_type": "display_data"
    },
    {
     "data": {
      "application/vnd.jupyter.widget-view+json": {
       "model_id": "9f292f8adb014424a9ae597b1fe536f2",
       "version_major": 2,
       "version_minor": 0
      },
      "text/plain": [
       "FloatSlider(value=3.0, max=10.0, step=0.5)"
      ]
     },
     "metadata": {},
     "output_type": "display_data"
    }
   ],
   "source": [
    "#обработка сpp\n",
    "CA = widgets.FloatSlider(min=0.0, max=10.0, step=0.5, value = 1.0)\n",
    "CB = widgets.FloatSlider(min=0.0, max=10.0, step=0.5, value = 3.0)\n",
    "display(CA, CB)"
   ]
  },
  {
   "cell_type": "code",
   "execution_count": 6,
   "metadata": {},
   "outputs": [
    {
     "data": {
      "application/vnd.jupyter.widget-view+json": {
       "model_id": "5adc1d7f77234b1782219c59809585a2",
       "version_major": 2,
       "version_minor": 0
      },
      "text/plain": [
       "FloatSlider(value=4.0, max=10.0, step=0.5)"
      ]
     },
     "metadata": {},
     "output_type": "display_data"
    },
    {
     "data": {
      "application/vnd.jupyter.widget-view+json": {
       "model_id": "22b539f4374a448894c4a98c145b2ff6",
       "version_major": 2,
       "version_minor": 0
      },
      "text/plain": [
       "FloatSlider(value=5.0, max=10.0, step=0.5)"
      ]
     },
     "metadata": {},
     "output_type": "display_data"
    }
   ],
   "source": [
    "#обработка web\n",
    "WA = widgets.FloatSlider(min=0.0, max=10.0, step=0.5, value = 4.0)\n",
    "WB = widgets.FloatSlider(min=0.0, max=10.0, step=0.5, value = 5.0)\n",
    "display(WA, WB)"
   ]
  },
  {
   "cell_type": "code",
   "execution_count": 7,
   "metadata": {},
   "outputs": [
    {
     "data": {
      "application/vnd.jupyter.widget-view+json": {
       "model_id": "feeecdd312af4fc9bb6c61c9313611a4",
       "version_major": 2,
       "version_minor": 0
      },
      "text/plain": [
       "FloatSlider(value=0.0, max=10.0, step=0.5)"
      ]
     },
     "metadata": {},
     "output_type": "display_data"
    },
    {
     "data": {
      "application/vnd.jupyter.widget-view+json": {
       "model_id": "78d16fd98e0d493f9678a940ed3ecea6",
       "version_major": 2,
       "version_minor": 0
      },
      "text/plain": [
       "FloatSlider(value=10.0, max=10.0, step=0.5)"
      ]
     },
     "metadata": {},
     "output_type": "display_data"
    }
   ],
   "source": [
    "#время работы докера\n",
    "DA = widgets.FloatSlider(min=0.0, max=10.0, step=0.5, value = 0.0)\n",
    "DB = widgets.FloatSlider(min=0.0, max=10.0, step=0.5, value = 10.0)\n",
    "\n",
    "display(DA, DB)"
   ]
  },
  {
   "cell_type": "code",
   "execution_count": 8,
   "metadata": {},
   "outputs": [],
   "source": [
    "def generate_next(a, b):\n",
    "    return random.uniform(a, b)"
   ]
  },
  {
   "cell_type": "code",
   "execution_count": 9,
   "metadata": {},
   "outputs": [],
   "source": [
    "mt = 0 #время моделирования \n",
    "#соотношение заявок\n",
    "ra = 5\n",
    "rb = 3\n",
    "\n",
    "#количество заявок\n",
    "reqa = 0 #заявки первого типа\n",
    "reqb = 0 #заявки второго типа\n",
    "\n",
    "#очереди\n",
    "que_a = 0\n",
    "que_b = 0\n",
    "\n",
    "#флаги событий\n",
    "ba = False #нет заявок первого типа\n",
    "bb = False #нет заявок второго типа\n",
    "bd = False #докер не занят\n",
    "\n",
    "#время происхождения событий\n",
    "t_req = generate_next(a, b) #когда следующая заявка\n",
    "t_ra = math.inf\n",
    "t_rb = math.inf\n",
    "t_c = math.inf\n",
    "\n",
    "class typeReq:\n",
    "    def __init__(self, name, time):\n",
    "        self.name = name\n",
    "        self.time = time\n",
    "\n",
    "#типы событий\n",
    "ev_req = typeReq(\"req\", t_req) #приходит заявка\n",
    "\n",
    "ev_ra = typeReq(\"cpp\", t_ra) #она либо С++\n",
    "ev_rb = typeReq(\"web\", t_rb) #либо веб\n",
    "\n",
    "ev_c = typeReq(\"docker\", t_c) #докер старается взять сначала с++\n",
    "\n",
    "times = [ev_req, ev_ra, ev_rb, ev_c]"
   ]
  },
  {
   "cell_type": "code",
   "execution_count": 10,
   "metadata": {},
   "outputs": [],
   "source": [
    "while mt <= T.value:\n",
    "    #обновили время\n",
    "    mt += times[0].time\n",
    "    \n",
    "    for i in range(len(times) - 1, -1, -1):\n",
    "        times[i].time -= times[0].time\n",
    "    \n",
    "    if times[0].name == 'req':\n",
    "        ev_req.time = generate_next(a, b) #ждем следующую заявку\n",
    "        P = random.random()\n",
    "        #пришла заявка первого типа\n",
    "        if (P <= (ra/ (ra+rb))):\n",
    "            ba = True #есть заявка первого типа\n",
    "            reqa += 1\n",
    "            ev_ra.time = generate_next(CA.value, CB.value)\n",
    "            \n",
    "        else: #пришла заявка второго типа\n",
    "            bb = True #есть заявка второго типа\n",
    "            reqb += 1\n",
    "            ev_rb.time = generate_next(WA.value, WB.value)\n",
    "    \n",
    "    elif times[0].name == 'cpp':\n",
    "        ba = False\n",
    "        ev_ra.time = math.inf\n",
    "        #можем сразу обработать \n",
    "        if not bd:\n",
    "            bd = True\n",
    "            ev_c.time = generate_next(DA.value, DB.value)\n",
    "        else:\n",
    "            que_a += 1\n",
    "            \n",
    "    elif times[0].name == 'web':\n",
    "        bb = False\n",
    "        ev_rb.time = math.inf\n",
    "        #можем сразу обработать \n",
    "        if not bd:\n",
    "            bd = True\n",
    "            ev_c.time = generate_next(DA.value, DB.value)\n",
    "        else:\n",
    "            que_b += 1\n",
    "    elif times[0].name == 'docker':\n",
    "        bd = False #докер освободился\n",
    "        ev_c.time = math.inf\n",
    "        #если есть заявки первого типа: обрабатываем в первую очередь\n",
    "        if que_a > 0:\n",
    "            bd = True #заняли докер\n",
    "            que_a -= 1\n",
    "            ev_c.time = generate_next(DA.value, DB.value) #посмотрели, когда он освободится\n",
    "        elif que_b > 0: #только если нет легковесных заявок\n",
    "            bd = True #заняли докер\n",
    "            que_b -= 1\n",
    "            ev_c.time = generate_next(DA.value, DB.value) #посмотрели, когда он освободится\n",
    "   \n",
    "    times = sorted(times, key = (lambda x: x.time) )"
   ]
  },
  {
   "cell_type": "code",
   "execution_count": 11,
   "metadata": {},
   "outputs": [
    {
     "data": {
      "application/vnd.jupyter.widget-view+json": {
       "model_id": "bb5bff04c78e428da46702fff2ef5abe",
       "version_major": 2,
       "version_minor": 0
      },
      "text/plain": [
       "Sheet(cells=(Cell(column_end=0, column_start=0, row_end=0, row_start=0, type='numeric', value=140), Cell(colum…"
      ]
     },
     "metadata": {},
     "output_type": "display_data"
    }
   ],
   "source": [
    "s = sheet(5, 1, column_headers = list(['Сpp', 'Web', 'Время моделирования', 'Осталось заявок CPP', 'Осталось заявок WEB']))\n",
    "cell(0, 0, reqa)\n",
    "cell(0, 1, reqb) \n",
    "cell(0, 2, T.value)\n",
    "cell(0, 3, que_a)\n",
    "cell(0, 4, que_b)\n",
    "s"
   ]
  }
 ],
 "metadata": {
  "kernelspec": {
   "display_name": "Python 3",
   "language": "python",
   "name": "python3"
  },
  "language_info": {
   "codemirror_mode": {
    "name": "ipython",
    "version": 3
   },
   "file_extension": ".py",
   "mimetype": "text/x-python",
   "name": "python",
   "nbconvert_exporter": "python",
   "pygments_lexer": "ipython3",
   "version": "3.6.5"
  }
 },
 "nbformat": 4,
 "nbformat_minor": 2
}
