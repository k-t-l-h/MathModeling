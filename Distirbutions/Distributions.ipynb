{
 "cells": [
  {
   "cell_type": "code",
   "execution_count": 1,
   "metadata": {},
   "outputs": [],
   "source": [
    "#Лабораторная работа 3"
   ]
  },
  {
   "cell_type": "code",
   "execution_count": 2,
   "metadata": {},
   "outputs": [],
   "source": [
    "#Постановка задачи:\n",
    "#Равномерное распределение\n",
    "#Экспоненциальное распределение"
   ]
  },
  {
   "cell_type": "code",
   "execution_count": 3,
   "metadata": {},
   "outputs": [],
   "source": [
    "%matplotlib inline\n",
    "\n",
    "from scipy.stats import uniform, expon, norm\n",
    "from matplotlib import pyplot as plt\n",
    "import numpy as np\n",
    "\n",
    "\n",
    "from __future__ import print_function\n",
    "from ipywidgets import interact, interactive, fixed, interact_manual, FloatSlider\n",
    "import ipywidgets as widgets"
   ]
  },
  {
   "cell_type": "code",
   "execution_count": 4,
   "metadata": {},
   "outputs": [
    {
     "data": {
      "application/vnd.jupyter.widget-view+json": {
       "model_id": "9bf3dd56888e4de8867591e893c15a18",
       "version_major": 2,
       "version_minor": 0
      },
      "text/plain": [
       "interactive(children=(FloatSlider(value=10.0, description='a', max=20.0), FloatSlider(value=10.25, description…"
      ]
     },
     "metadata": {},
     "output_type": "display_data"
    }
   ],
   "source": [
    "#Равномерное распределение (функция распределения)\n",
    "\n",
    "def f(a, b): # [a, b] - интервал распределения\n",
    "    if (b < a):\n",
    "        a, b = b, a\n",
    "    plt.figure()\n",
    "    x = np.linspace(a-1, b + 1, num=1000)\n",
    "    dist = uniform(loc=a, scale=abs(a - b))\n",
    "    plt.plot(x, dist.cdf(x))\n",
    "    plt.grid(linewidth=0.5)\n",
    "    plt.show()\n",
    "\n",
    "interactive_plot = interactive(f, a=(0, 20.0), b=(0.5, 20.0)) #b строго больше а\n",
    "\n",
    "\n",
    "output = interactive_plot\n",
    "output.layout.height = '350px'\n",
    "interactive_plot"
   ]
  },
  {
   "cell_type": "code",
   "execution_count": 5,
   "metadata": {},
   "outputs": [
    {
     "data": {
      "application/vnd.jupyter.widget-view+json": {
       "model_id": "0ae78869152545dba718799eb78b980d",
       "version_major": 2,
       "version_minor": 0
      },
      "text/plain": [
       "interactive(children=(FloatSlider(value=10.0, description='a', max=20.0), FloatSlider(value=10.25, description…"
      ]
     },
     "metadata": {},
     "output_type": "display_data"
    }
   ],
   "source": [
    "#Равномерное распределение (плотность распределения)\n",
    "\n",
    "def f(a, b):\n",
    "    if (b < a):\n",
    "        a, b = b, a\n",
    "    plt.figure()\n",
    "    x = np.linspace(a - 1, b + 1, num=1000)\n",
    "    dist = uniform(loc=a, scale=abs(a - b))\n",
    "    plt.plot(x, dist.pdf(x))\n",
    "    plt.grid(linewidth=0.5)\n",
    "    plt.show()\n",
    "\n",
    "interactive_plot = interactive(f, a=(0, 20.0), b=(0.5, 20.0))\n",
    "\n",
    "output = interactive_plot\n",
    "output.layout.height = '350px'\n",
    "interactive_plot"
   ]
  },
  {
   "cell_type": "code",
   "execution_count": 6,
   "metadata": {},
   "outputs": [
    {
     "data": {
      "application/vnd.jupyter.widget-view+json": {
       "model_id": "ad8964f2aa974412ac6e89de7a04b06f",
       "version_major": 2,
       "version_minor": 0
      },
      "text/plain": [
       "interactive(children=(FloatSlider(value=10.0, description='a', max=20.0), FloatSlider(value=10.25, description…"
      ]
     },
     "metadata": {},
     "output_type": "display_data"
    }
   ],
   "source": [
    "#Равномерное распределение: параметры\n",
    "\n",
    "def f(a, b):\n",
    "    if (b < a):\n",
    "        a, b = b, a\n",
    "    dist = uniform(loc=a, scale=abs(a - b))\n",
    "    print(\"MX = {0:.4}, DX = {1:.4}\".format(dist.stats('m'), dist.stats('v')))\n",
    "    \n",
    "itr = interactive(f, a=(0, 20.0), b=(0.5, 20.0))\n",
    "itr\n"
   ]
  },
  {
   "cell_type": "code",
   "execution_count": 7,
   "metadata": {},
   "outputs": [
    {
     "data": {
      "application/vnd.jupyter.widget-view+json": {
       "model_id": "6fcbf7dda5284343817cecac1cb81e53",
       "version_major": 2,
       "version_minor": 0
      },
      "text/plain": [
       "interactive(children=(FloatSlider(value=1.0, description='mx', max=2.0), FloatSlider(value=1.0, description='d…"
      ]
     },
     "metadata": {},
     "output_type": "display_data"
    }
   ],
   "source": [
    "#Распределение Гаусса (плотность распределения)\n",
    "\n",
    "def f(mx, dx):\n",
    "    plt.figure()\n",
    "    x = np.linspace(norm.ppf(0.01, loc = mx, scale = dx), norm.ppf(0.99, loc = mx, scale = dx), 1000)\n",
    "    plt.plot(x, norm.pdf(x, loc = mx, scale = dx), label='norm pdf')\n",
    "    plt.grid(linewidth=0.5)\n",
    "    plt.show()\n",
    "\n",
    "\n",
    "interactive_plot = interactive(f, mx=(0, 2.0), dx = (0, 2.0))\n",
    "\n",
    "\n",
    "output = interactive_plot\n",
    "output.layout.height = '350px'\n",
    "interactive_plot"
   ]
  },
  {
   "cell_type": "code",
   "execution_count": 8,
   "metadata": {},
   "outputs": [
    {
     "data": {
      "application/vnd.jupyter.widget-view+json": {
       "model_id": "cfcb245919ff42f7a7ac954beee4bdbd",
       "version_major": 2,
       "version_minor": 0
      },
      "text/plain": [
       "interactive(children=(FloatSlider(value=1.0, description='mx', max=2.0), FloatSlider(value=1.0, description='d…"
      ]
     },
     "metadata": {},
     "output_type": "display_data"
    }
   ],
   "source": [
    "#Распределение Гаусса (функция распределения)\n",
    "\n",
    "def f(mx, dx):\n",
    "    plt.figure()\n",
    "    x = np.linspace(norm.ppf(0.01, loc = mx, scale = dx), norm.ppf(0.99, loc = mx, scale = dx), 1000)\n",
    "    plt.plot(x, norm.cdf(x, loc = mx, scale = dx), label='norm cdf')\n",
    "    plt.grid(linewidth=0.5)\n",
    "    plt.show()\n",
    "\n",
    "\n",
    "interactive_plot = interactive(f, mx=(0, 2.0), dx = (0, 2.0))\n",
    "\n",
    "\n",
    "output = interactive_plot\n",
    "output.layout.height = '350px'\n",
    "interactive_plot"
   ]
  },
  {
   "cell_type": "code",
   "execution_count": 9,
   "metadata": {},
   "outputs": [
    {
     "data": {
      "application/vnd.jupyter.widget-view+json": {
       "model_id": "e2d6e3be37a5426984a86c855836459d",
       "version_major": 2,
       "version_minor": 0
      },
      "text/plain": [
       "interactive(children=(FloatSlider(value=10.0, description='mx', max=20.0), FloatSlider(value=10.25, descriptio…"
      ]
     },
     "metadata": {},
     "output_type": "display_data"
    }
   ],
   "source": [
    "#Распределение Гаусса (параметры)\n",
    "\n",
    "def f(mx, dx):\n",
    "    dist = norm(loc = mx, scale = dx)\n",
    "    print(\"MX = {0:.4}, DX = {1:.4}\".format(dist.stats('m'), dist.stats('v')))\n",
    "\n",
    "    \n",
    "itr = interactive(f, mx=(0, 20.0), dx=(0.5, 20.0))\n",
    "itr\n"
   ]
  },
  {
   "cell_type": "code",
   "execution_count": 10,
   "metadata": {},
   "outputs": [
    {
     "data": {
      "application/vnd.jupyter.widget-view+json": {
       "model_id": "5315057c53ba415f8777829844310ccb",
       "version_major": 2,
       "version_minor": 0
      },
      "text/plain": [
       "interactive(children=(FloatSlider(value=10.1, description='a', max=20.0, min=0.2), Output()), layout=Layout(he…"
      ]
     },
     "metadata": {},
     "output_type": "display_data"
    }
   ],
   "source": [
    "#Экспоненциальное распределение (плотность распределения)\n",
    "\n",
    "def f(a):\n",
    "    plt.figure()\n",
    "    x = np.linspace(0, 5, num=1000)\n",
    "    dist = expon(scale = 1/a)\n",
    "    plt.plot(x, dist.pdf(x))\n",
    "    plt.grid(linewidth=0.5)\n",
    "    plt.show()\n",
    "\n",
    "\n",
    "interactive_plot = interactive(f, a=(0.2, 20.0))\n",
    "\n",
    "\n",
    "output = interactive_plot\n",
    "output.layout.height = '350px'\n",
    "interactive_plot"
   ]
  },
  {
   "cell_type": "code",
   "execution_count": 11,
   "metadata": {},
   "outputs": [
    {
     "data": {
      "application/vnd.jupyter.widget-view+json": {
       "model_id": "4f84ada1abae4aff895c045df964d679",
       "version_major": 2,
       "version_minor": 0
      },
      "text/plain": [
       "interactive(children=(FloatSlider(value=10.1, description='a', max=20.0, min=0.2), Output()), layout=Layout(he…"
      ]
     },
     "metadata": {},
     "output_type": "display_data"
    }
   ],
   "source": [
    "#Экспоненциальное распределение (функция распределения)\n",
    "np.seterr(divide='ignore', invalid='ignore')\n",
    "\n",
    "def f(a):\n",
    "    plt.figure()\n",
    "    x = np.linspace(0, 5, num=1000)\n",
    "    dist = expon(scale = 1/a)\n",
    "    plt.plot(x, dist.cdf(x))\n",
    "    plt.grid(linewidth=0.5)\n",
    "    plt.show()\n",
    "\n",
    "\n",
    "interactive_plot = interactive(f, a=(0.2, 20.0))\n",
    "\n",
    "\n",
    "output = interactive_plot\n",
    "output.layout.height = '350px'\n",
    "interactive_plot"
   ]
  },
  {
   "cell_type": "code",
   "execution_count": 12,
   "metadata": {},
   "outputs": [
    {
     "data": {
      "application/vnd.jupyter.widget-view+json": {
       "model_id": "b4a1ca2eeddf4f1ca191e39a808a6a6b",
       "version_major": 2,
       "version_minor": 0
      },
      "text/plain": [
       "interactive(children=(FloatSlider(value=10.1, description='ld', max=20.0, min=0.2), Output()), _dom_classes=('…"
      ]
     },
     "metadata": {},
     "output_type": "display_data"
    }
   ],
   "source": [
    "#Экспоненциальное распределение (параметры)\n",
    "\n",
    "def f(ld):\n",
    "    dist = expon(scale = 1/ld)\n",
    "    print(\"MX = {0:.2}, DX = {1:.2}\".format(dist.stats('m'), dist.stats('v')))\n",
    "\n",
    "    \n",
    "itr = interactive(f, ld=(0.2, 20.0))\n",
    "itr\n"
   ]
  }
 ],
 "metadata": {
  "kernelspec": {
   "display_name": "Python 3",
   "language": "python",
   "name": "python3"
  },
  "language_info": {
   "codemirror_mode": {
    "name": "ipython",
    "version": 3
   },
   "file_extension": ".py",
   "mimetype": "text/x-python",
   "name": "python",
   "nbconvert_exporter": "python",
   "pygments_lexer": "ipython3",
   "version": "3.6.5"
  }
 },
 "nbformat": 4,
 "nbformat_minor": 2
}
